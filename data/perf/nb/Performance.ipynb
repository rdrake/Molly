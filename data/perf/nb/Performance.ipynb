{
 "metadata": {
  "name": ""
 },
 "nbformat": 3,
 "nbformat_minor": 0,
 "worksheets": [
  {
   "cells": [
    {
     "cell_type": "heading",
     "level": 1,
     "metadata": {},
     "source": [
      "Introduction"
     ]
    },
    {
     "cell_type": "markdown",
     "metadata": {},
     "source": [
      "Scripts were written to coordinate the execution, collection, and transformation of the performance data of our implementation.  We used [Criterium](http://hugoduncan.org/criterium/) to handle the execution of the benchmarks as it handles unique concerns stemming from benchmarking on the JVM.  These include:\n",
      "\n",
      "- statistical processing of multiple evaluations\n",
      "- inclusion of a warm-up period, designed to allow the JIT compiler to optimise its code\n",
      "- purging of gc before testing, to isolate timings from GC state prior to testing\n",
      "- a final forced GC after testing to estimate impact of cleanup on the timing results\n",
      "\n",
      "Unfortunately this requires a much longer runtime as each function must be invoked numerous times.  In extreme cases (Ford-Fulkerson, 8 hops) this can take upwards of 4 hours on Leda."
     ]
    },
    {
     "cell_type": "heading",
     "level": 1,
     "metadata": {},
     "source": [
      "Data Collection"
     ]
    },
    {
     "cell_type": "markdown",
     "metadata": {},
     "source": [
      "Criterium provides us with a Clojure map with performance data.  It performs analysis, presenting us with outliers, samples, etc.  As this data collection process can take several hours or more, this data is collected and stored for offline analysis.\n",
      "\n",
      "In order to utilize the Clojure output in Python, a data interchange format (JSON) is used.  The benchmark function writes the Criterium performance analysis out as a JSON string to stdout and Python captures the output, JSONifies it, and stores it in an array.  This array is written to disk in JSON as well so it can be loaded into the data transformation script.\n",
      "\n",
      "For example:"
     ]
    },
    {
     "cell_type": "markdown",
     "metadata": {},
     "source": [
      "```json\n",
      "[{\"results\": {...}, \"method\": \"bfs\", \"max-hops\": 1}, ...]\n",
      "```"
     ]
    },
    {
     "cell_type": "heading",
     "level": 1,
     "metadata": {},
     "source": [
      "Data Processing"
     ]
    },
    {
     "cell_type": "markdown",
     "metadata": {},
     "source": [
      "Several scientific computing libraries are used in the processing and visualization."
     ]
    },
    {
     "cell_type": "code",
     "collapsed": false,
     "input": [
      "import pandas as pd\n",
      "import numpy as np\n",
      "import matplotlib.pyplot as plt\n",
      "\n",
      "import json"
     ],
     "language": "python",
     "metadata": {},
     "outputs": [],
     "prompt_number": 42
    },
    {
     "cell_type": "markdown",
     "metadata": {},
     "source": [
      "There are two forms the data takes:\n",
      "\n",
      "- CSV\n",
      "- JSON\n",
      "\n",
      "The CSV data is generated from the JSON data which is generated as described in Data Collection."
     ]
    },
    {
     "cell_type": "code",
     "collapsed": false,
     "input": [
      "#data_uri = \"../raw/2013-09-20-17-46-08-result.json\"\n",
      "data_uri = \"../../../wat.json\""
     ],
     "language": "python",
     "metadata": {},
     "outputs": [],
     "prompt_number": 43
    },
    {
     "cell_type": "markdown",
     "metadata": {},
     "source": [
      "(I'm not sure what the samples represent exactly, so let's just process the JSON and grab the mean from there for now.)"
     ]
    },
    {
     "cell_type": "markdown",
     "metadata": {},
     "source": [
      "With the data loaded, we're interested in a handful of pieces of date per each entry.\n",
      "\n",
      "- Max hops\n",
      "- Method\n",
      "- Mean execution time\n",
      "\n",
      "We can easily load and parse the JSON data."
     ]
    },
    {
     "cell_type": "code",
     "collapsed": false,
     "input": [
      "from collections import defaultdict\n",
      "\n",
      "def parse_data(path):\n",
      "    data = defaultdict(list)\n",
      "    hops = []\n",
      "    \n",
      "    with open(path) as f:\n",
      "        json_data = json.load(f)\n",
      "        \n",
      "        for result in json_data:\n",
      "            (max_hops, method, mean) = (result[\"max-hops\"],\n",
      "                                        result[\"method\"],\n",
      "                                        result[\"results\"][\"mean\"][0])\n",
      "            \n",
      "            data[method].append(mean)\n",
      "            \n",
      "            if max_hops not in hops:\n",
      "                hops.append(max_hops)\n",
      "    \n",
      "    return (data, hops)\n",
      "\n",
      "parsed = parse_data(data_uri)"
     ],
     "language": "python",
     "metadata": {},
     "outputs": [],
     "prompt_number": 44
    },
    {
     "cell_type": "markdown",
     "metadata": {},
     "source": [
      "With the data parsed, we load it into Pandas to simplify analysis."
     ]
    },
    {
     "cell_type": "markdown",
     "metadata": {},
     "source": [
      "It may be a good idea to parse the data into the following format:"
     ]
    },
    {
     "cell_type": "raw",
     "metadata": {},
     "source": [
      "index (hops) | bfs | bfs_atom | bfs_ref | ford_fulkerson\n",
      "--------------------------------------------------------\n",
      "1            | 0.5 | 0.1      | 0.15    | 0.7\n",
      "..."
     ]
    },
    {
     "cell_type": "markdown",
     "metadata": {},
     "source": [
      "This would make it much simpler to plot."
     ]
    },
    {
     "cell_type": "markdown",
     "metadata": {},
     "source": [
      "Next we need to transform the parsed data into a [DataFrame](http://pandas.pydata.org/pandas-docs/stable/dsintro.html).  A DataFrame is a 2D array that consists of rows and columns, similar to a spreadsheet."
     ]
    },
    {
     "cell_type": "code",
     "collapsed": false,
     "input": [
      "(data, hops) = parsed\n",
      "df = pd.DataFrame(data, index=hops)"
     ],
     "language": "python",
     "metadata": {},
     "outputs": [],
     "prompt_number": 45
    },
    {
     "cell_type": "markdown",
     "metadata": {},
     "source": [
      "The DataFrame has a very simple structure. It has a column for each method, the index is the number of hops, and the values are the mean times.\n"
     ]
    },
    {
     "cell_type": "code",
     "collapsed": false,
     "input": [
      "df.head(1)"
     ],
     "language": "python",
     "metadata": {},
     "outputs": [
      {
       "html": [
        "<div style=\"max-height:1000px;max-width:1500px;overflow:auto;\">\n",
        "<table border=\"1\" class=\"dataframe\">\n",
        "  <thead>\n",
        "    <tr style=\"text-align: right;\">\n",
        "      <th></th>\n",
        "      <th>bfs_atom</th>\n",
        "    </tr>\n",
        "  </thead>\n",
        "  <tbody>\n",
        "    <tr>\n",
        "      <th>1</th>\n",
        "      <td> 0.001198</td>\n",
        "    </tr>\n",
        "  </tbody>\n",
        "</table>\n",
        "</div>"
       ],
       "metadata": {},
       "output_type": "pyout",
       "prompt_number": 46,
       "text": [
        "   bfs_atom\n",
        "1  0.001198"
       ]
      }
     ],
     "prompt_number": 46
    },
    {
     "cell_type": "markdown",
     "metadata": {},
     "source": [
      "(Function to set labels, titles, etc. properly.)"
     ]
    },
    {
     "cell_type": "code",
     "collapsed": false,
     "input": [
      "def label_axes(ax, title):\n",
      "    ax.set_title(title)\n",
      "    ax.set_xlabel(\"Hops\")\n",
      "    ax.set_ylabel(\"Time (s)\")"
     ],
     "language": "python",
     "metadata": {},
     "outputs": [],
     "prompt_number": 47
    },
    {
     "cell_type": "markdown",
     "metadata": {},
     "source": [
      "With the data in a structured format, it can easily be plotted."
     ]
    },
    {
     "cell_type": "code",
     "collapsed": false,
     "input": [
      "from math import ceil\n",
      "\n",
      "ncols = 1\n",
      "nrows = int(ceil(len(df.columns) / ncols))\n",
      "axes_pos = []\n",
      "\n",
      "(fig, axes) = plt.subplots(nrows=nrows, ncols=ncols)\n",
      "\n",
      "for i in range(ncols):\n",
      "    for j in range(nrows):\n",
      "        axes_pos.append(axes[i, j])\n",
      "\n",
      "for (i, method) in enumerate(df.columns):\n",
      "    ax = axes_pos[i]\n",
      "    label_axes(ax, method)\n",
      "    df[method].plot(ax=ax)#, figsize=(10, 5))\n",
      "\n",
      "fig.tight_layout()\n",
      "fig.savefig(\"methods-subplots.pgf\")"
     ],
     "language": "python",
     "metadata": {},
     "outputs": [
      {
       "ename": "TypeError",
       "evalue": "'AxesSubplot' object has no attribute '__getitem__'",
       "output_type": "pyerr",
       "traceback": [
        "\u001b[0;31m---------------------------------------------------------------------------\u001b[0m\n\u001b[0;31mTypeError\u001b[0m                                 Traceback (most recent call last)",
        "\u001b[0;32m<ipython-input-48-324509dce1e7>\u001b[0m in \u001b[0;36m<module>\u001b[0;34m()\u001b[0m\n\u001b[1;32m      9\u001b[0m \u001b[0;32mfor\u001b[0m \u001b[0mi\u001b[0m \u001b[0;32min\u001b[0m \u001b[0mrange\u001b[0m\u001b[0;34m(\u001b[0m\u001b[0mncols\u001b[0m\u001b[0;34m)\u001b[0m\u001b[0;34m:\u001b[0m\u001b[0;34m\u001b[0m\u001b[0m\n\u001b[1;32m     10\u001b[0m     \u001b[0;32mfor\u001b[0m \u001b[0mj\u001b[0m \u001b[0;32min\u001b[0m \u001b[0mrange\u001b[0m\u001b[0;34m(\u001b[0m\u001b[0mnrows\u001b[0m\u001b[0;34m)\u001b[0m\u001b[0;34m:\u001b[0m\u001b[0;34m\u001b[0m\u001b[0m\n\u001b[0;32m---> 11\u001b[0;31m         \u001b[0maxes_pos\u001b[0m\u001b[0;34m.\u001b[0m\u001b[0mappend\u001b[0m\u001b[0;34m(\u001b[0m\u001b[0maxes\u001b[0m\u001b[0;34m[\u001b[0m\u001b[0mi\u001b[0m\u001b[0;34m,\u001b[0m \u001b[0mj\u001b[0m\u001b[0;34m]\u001b[0m\u001b[0;34m)\u001b[0m\u001b[0;34m\u001b[0m\u001b[0m\n\u001b[0m\u001b[1;32m     12\u001b[0m \u001b[0;34m\u001b[0m\u001b[0m\n\u001b[1;32m     13\u001b[0m \u001b[0;32mfor\u001b[0m \u001b[0;34m(\u001b[0m\u001b[0mi\u001b[0m\u001b[0;34m,\u001b[0m \u001b[0mmethod\u001b[0m\u001b[0;34m)\u001b[0m \u001b[0;32min\u001b[0m \u001b[0menumerate\u001b[0m\u001b[0;34m(\u001b[0m\u001b[0mdf\u001b[0m\u001b[0;34m.\u001b[0m\u001b[0mcolumns\u001b[0m\u001b[0;34m)\u001b[0m\u001b[0;34m:\u001b[0m\u001b[0;34m\u001b[0m\u001b[0m\n",
        "\u001b[0;31mTypeError\u001b[0m: 'AxesSubplot' object has no attribute '__getitem__'"
       ]
      },
      {
       "metadata": {},
       "output_type": "display_data",
       "png": "[encoded data removed]",
       "text": [
        "<matplotlib.figure.Figure at 0x1083dc050>"
       ]
      }
     ],
     "prompt_number": 48
    },
    {
     "cell_type": "markdown",
     "metadata": {
      "slideshow": {
       "slide_type": "slide"
      }
     },
     "source": [
      "We see that each method experiences a similar rate of growth.  Unfortunately each method is plotted with a different y-scale.  In order to view growth of each method relative to one another, they must be plotted on the same graph."
     ]
    },
    {
     "cell_type": "code",
     "collapsed": false,
     "input": [
      "ax = df.plot()#figsize=(10, 5))\n",
      "label_axes(ax, \"Comparsion of Methods\")\n",
      "fig = plt.gcf()\n",
      "fig.savefig(\"methods-compared.pgf\")"
     ],
     "language": "python",
     "metadata": {
      "slideshow": {
       "slide_type": "slide"
      }
     },
     "outputs": [
      {
       "metadata": {},
       "output_type": "display_data",
       "png": "[encoded data removed]",
       "text": [
        "<matplotlib.figure.Figure at 0x1083d50d0>"
       ]
      }
     ],
     "prompt_number": 49
    },
    {
     "cell_type": "code",
     "collapsed": false,
     "input": [],
     "language": "python",
     "metadata": {},
     "outputs": []
    }
   ],
   "metadata": {}
  }
 ]
}