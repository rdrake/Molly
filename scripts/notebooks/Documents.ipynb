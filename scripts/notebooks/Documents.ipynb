{
 "metadata": {
  "name": ""
 },
 "nbformat": 3,
 "nbformat_minor": 0,
 "worksheets": [
  {
   "cells": [
    {
     "cell_type": "code",
     "collapsed": false,
     "input": [
      "from collections import Counter\n",
      "\n",
      "D = [\"Superman is strong on Earth and lives on Earth\",\n",
      "     \"Batman was born on Earth\",\n",
      "     \"Superwoman is fast on Earth\",\n",
      "     \"Superman was born on Krypton\",\n",
      "     \"Superwoman was born on Krypton\"]\n",
      "\n",
      "for d in D:\n",
      "    print(d)\n",
      "\n",
      "# Normalize, tokenize, and count frequencies.\n",
      "D = [Counter(d.lower().split()) for d in D]"
     ],
     "language": "python",
     "metadata": {},
     "outputs": [
      {
       "output_type": "stream",
       "stream": "stdout",
       "text": [
        "Superman is strong on Earth and lives on Earth\n",
        "Batman was born on Earth\n",
        "Superwoman is fast on Earth\n",
        "Superman was born on Krypton\n",
        "Superwoman was born on Krypton\n"
       ]
      }
     ],
     "prompt_number": 1
    },
    {
     "cell_type": "markdown",
     "metadata": {},
     "source": [
      "Let each sentence be a document.  We would have the following documents."
     ]
    },
    {
     "cell_type": "code",
     "collapsed": false,
     "input": [
      "print \"$$\\\\begin{eqnarray*}\"\n",
      "\n",
      "for (i, d) in enumerate(D):\n",
      "    S = [\"\\\\textrm{``%s''}: %i\" % (k, v) for (k, v) in d.items()]\n",
      "    print(\"d_%i &=& \\\\left\\\\{%s\\\\right\\\\} \\\\\\\\\" % (i + 1, \", \".join(S)))\n",
      "\n",
      "print \"\\\\end{eqnarray*}$$\""
     ],
     "language": "python",
     "metadata": {},
     "outputs": [
      {
       "output_type": "stream",
       "stream": "stdout",
       "text": [
        "$$\\begin{eqnarray*}\n",
        "d_1 &=& \\left\\{\\textrm{``and''}: 1, \\textrm{``on''}: 2, \\textrm{``is''}: 1, \\textrm{``lives''}: 1, \\textrm{``earth''}: 2, \\textrm{``strong''}: 1, \\textrm{``superman''}: 1\\right\\} \\\\\n",
        "d_2 &=& \\left\\{\\textrm{``batman''}: 1, \\textrm{``on''}: 1, \\textrm{``was''}: 1, \\textrm{``earth''}: 1, \\textrm{``born''}: 1\\right\\} \\\\\n",
        "d_3 &=& \\left\\{\\textrm{``on''}: 1, \\textrm{``is''}: 1, \\textrm{``superwoman''}: 1, \\textrm{``fast''}: 1, \\textrm{``earth''}: 1\\right\\} \\\\\n",
        "d_4 &=& \\left\\{\\textrm{``krypton''}: 1, \\textrm{``born''}: 1, \\textrm{``on''}: 1, \\textrm{``was''}: 1, \\textrm{``superman''}: 1\\right\\} \\\\\n",
        "d_5 &=& \\left\\{\\textrm{``krypton''}: 1, \\textrm{``born''}: 1, \\textrm{``superwoman''}: 1, \\textrm{``was''}: 1, \\textrm{``on''}: 1\\right\\} \\\\\n",
        "\\end{eqnarray*}$$\n"
       ]
      }
     ],
     "prompt_number": 2
    },
    {
     "cell_type": "markdown",
     "metadata": {},
     "source": [
      "Let $D$ be the collection of documents $\\left\\{d_1, d_2, d_3, d_4\\right\\}$.  Thus, for $D$, $N = 4$."
     ]
    },
    {
     "cell_type": "code",
     "collapsed": false,
     "input": [
      "cf = Counter()\n",
      "df = Counter()\n",
      "\n",
      "for d in D:\n",
      "    cf += d\n",
      "    #print set(d.keys())\n",
      "    # Take the keys which have duplicates already removed and add it to the\n",
      "    # document frequency, which gives us the number of documents with each term.\n",
      "    df += Counter(d.keys())\n",
      "\n",
      "cf = dict(cf)\n",
      "df = dict(df)\n",
      "    \n",
      "T = cf.keys()\n",
      "\n",
      "S = [\"\\\\textrm{``%s''}\" % t for t in T]\n",
      "print(\"T = \\\\left\\\\{%s\\\\right\\\\}\" % \", \".join(S))\n",
      "print(\"|T| = %i\" % len(T))"
     ],
     "language": "python",
     "metadata": {},
     "outputs": [
      {
       "output_type": "stream",
       "stream": "stdout",
       "text": [
        "T = \\left\\{\\textrm{``and''}, \\textrm{``on''}, \\textrm{``strong''}, \\textrm{``lives''}, \\textrm{``batman''}, \\textrm{``is''}, \\textrm{``fast''}, \\textrm{``born''}, \\textrm{``krypton''}, \\textrm{``earth''}, \\textrm{``superwoman''}, \\textrm{``was''}, \\textrm{``superman''}\\right\\}\n",
        "|T| = 13\n"
       ]
      }
     ],
     "prompt_number": 3
    },
    {
     "cell_type": "markdown",
     "metadata": {},
     "source": [
      "$T = \\{$'and', 'on', 'superwoman', 'batman', 'is', 'krypton', 'fast', 'born', 'lives', 'earth', 'strong', 'was', 'superman'$\\}$ and $\\mid T \\mid = 13$."
     ]
    },
    {
     "cell_type": "heading",
     "level": 2,
     "metadata": {},
     "source": [
      "Document Vectorization"
     ]
    },
    {
     "cell_type": "markdown",
     "metadata": {},
     "source": [
      "One of the most fundamental approach for search documents is to treat documents as high dimensional vectors, and the document collection as a subset in a vector space.  The search query becomes a nearest neighbour query in a vector space equipped with a distance measure.\n",
      "\n",
      "The first step is to convert bag of terms into vectors.  The standard technique (cite Intro to IR book) uses a scoring function that measures the relative importance terms in documents."
     ]
    },
    {
     "cell_type": "heading",
     "level": 3,
     "metadata": {},
     "source": [
      "Definition (TF-IDF)"
     ]
    },
    {
     "cell_type": "markdown",
     "metadata": {},
     "source": [
      "The term frequency is the number of times a term t appears in a document $d$, as given by $\\freq(t,d)$.  The document frequency (df) of a term $t$ is the number of documents in $D$ that contains $t$.  It is defined as:\n",
      "$\\df(t) = | \\{d\\in D: t\\in d\\} |$ \n",
      "\n",
      "The combined tf-idf score of $t$ in a document $d$ is given by:\n",
      "\n",
      "$$ \\frac{\\freq(t,d)}{|d|} \\cdot \\log(\\frac{|D|}{\\df(t)}) $$"
     ]
    },
    {
     "cell_type": "markdown",
     "metadata": {},
     "source": [
      "The first component: $\\frac{\\freq(t,d)}{|d|}$ favours terms which have high frequency in a document.  However the second component, $\\log(\\frac{|D|}{\\df(t)})$, suppresses terms which are frequently found throughout the whole collection."
     ]
    },
    {
     "cell_type": "code",
     "collapsed": false,
     "input": [
      "from math import log\n",
      "\n",
      "def tf(t, d):\n",
      "    if t in d:\n",
      "        return float(d[t]) / len(d.keys())\n",
      "    \n",
      "    return 0.0\n",
      "\n",
      "def idf(t):\n",
      "    return log(float(len(D)) / df[t], 2)\n",
      "\n",
      "def tfidf(d, t):\n",
      "    return tf(t, d) * idf(t)\n",
      "\n",
      "tfidfs = {}\n",
      "\n",
      "for (idx, t) in enumerate(T):\n",
      "    for d_num in range(len(D)):\n",
      "        d = dict(D[d_num])\n",
      "        tfidfs[(t, d_num)] = tfidf(d, t)\n",
      "\n",
      "def print_line(L):\n",
      "    print(\"%s \\\\cr\" % \" & \".join(L))\n",
      "\n",
      "print \"$$\\\\bordermatrix{\"\n",
      "\n",
      "print_line([\"~\"] + [\"d_%i\" % (i + 1) for i in range(len(D))])\n",
      "\n",
      "for t in T:\n",
      "    line_items = [round(tfidfs[(t, d_num)], 4) for d_num in range(len(D))]\n",
      "    print_line([\"\\\\textrm{``%s''}\" % t] + [\"{:.4f}\".format(item) for item in line_items])\n",
      "    \n",
      "print \"}$$\""
     ],
     "language": "python",
     "metadata": {},
     "outputs": [
      {
       "output_type": "stream",
       "stream": "stdout",
       "text": [
        "$$\\bordermatrix{\n",
        "~ & d_1 & d_2 & d_3 & d_4 & d_5 \\cr\n",
        "\\textrm{``and''} & 0.3317 & 0.0000 & 0.0000 & 0.0000 & 0.0000 \\cr\n",
        "\\textrm{``on''} & 0.0000 & 0.0000 & 0.0000 & 0.0000 & 0.0000 \\cr\n",
        "\\textrm{``strong''} & 0.3317 & 0.0000 & 0.0000 & 0.0000 & 0.0000 \\cr\n",
        "\\textrm{``lives''} & 0.3317 & 0.0000 & 0.0000 & 0.0000 & 0.0000 \\cr\n",
        "\\textrm{``batman''} & 0.0000 & 0.4644 & 0.0000 & 0.0000 & 0.0000 \\cr\n",
        "\\textrm{``is''} & 0.1888 & 0.0000 & 0.2644 & 0.0000 & 0.0000 \\cr\n",
        "\\textrm{``fast''} & 0.0000 & 0.0000 & 0.4644 & 0.0000 & 0.0000 \\cr\n",
        "\\textrm{``born''} & 0.0000 & 0.1474 & 0.0000 & 0.1474 & 0.1474 \\cr\n",
        "\\textrm{``krypton''} & 0.0000 & 0.0000 & 0.0000 & 0.2644 & 0.2644 \\cr\n",
        "\\textrm{``earth''} & 0.2106 & 0.1474 & 0.1474 & 0.0000 & 0.0000 \\cr\n",
        "\\textrm{``superwoman''} & 0.0000 & 0.0000 & 0.2644 & 0.0000 & 0.2644 \\cr\n",
        "\\textrm{``was''} & 0.0000 & 0.1474 & 0.0000 & 0.1474 & 0.1474 \\cr\n",
        "\\textrm{``superman''} & 0.1888 & 0.0000 & 0.0000 & 0.2644 & 0.0000 \\cr\n",
        "}$$\n"
       ]
      }
     ],
     "prompt_number": 10
    },
    {
     "cell_type": "code",
     "collapsed": false,
     "input": [
      "import numpy as np\n",
      "\n",
      "d_vecs = []\n",
      "\n",
      "for d_num in range(len(D)):\n",
      "    d_vec = []\n",
      "    \n",
      "    print \"\\\\vec{d_%i} = \" % (d_num + 1)\n",
      "    print \"\\\\left[\"\n",
      "    print \"\\\\begin{array}{c}\"\n",
      "    \n",
      "    for t in T:\n",
      "        d_vec.append(tfidfs[(t, d_num)])\n",
      "        print \"%.4f \\\\\\\\\" % round(tfidfs[(t, d_num)], 4)\n",
      "    \n",
      "    d_vecs.append(np.array(d_vec))\n",
      "    \n",
      "    print \"\\\\end{array}\"\n",
      "    print \"\\\\right]\""
     ],
     "language": "python",
     "metadata": {},
     "outputs": [
      {
       "output_type": "stream",
       "stream": "stdout",
       "text": [
        "\\vec{d_1} = \n",
        "\\left[\n",
        "\\begin{array}{c}\n",
        "0.3317 \\\\\n",
        "0.0000 \\\\\n",
        "0.3317 \\\\\n",
        "0.3317 \\\\\n",
        "0.0000 \\\\\n",
        "0.1888 \\\\\n",
        "0.0000 \\\\\n",
        "0.0000 \\\\\n",
        "0.0000 \\\\\n",
        "0.2106 \\\\\n",
        "0.0000 \\\\\n",
        "0.0000 \\\\\n",
        "0.1888 \\\\\n",
        "\\end{array}\n",
        "\\right]\n",
        "\\vec{d_2} = \n",
        "\\left[\n",
        "\\begin{array}{c}\n",
        "0.0000 \\\\\n",
        "0.0000 \\\\\n",
        "0.0000 \\\\\n",
        "0.0000 \\\\\n",
        "0.4644 \\\\\n",
        "0.0000 \\\\\n",
        "0.0000 \\\\\n",
        "0.1474 \\\\\n",
        "0.0000 \\\\\n",
        "0.1474 \\\\\n",
        "0.0000 \\\\\n",
        "0.1474 \\\\\n",
        "0.0000 \\\\\n",
        "\\end{array}\n",
        "\\right]\n",
        "\\vec{d_3} = \n",
        "\\left[\n",
        "\\begin{array}{c}\n",
        "0.0000 \\\\\n",
        "0.0000 \\\\\n",
        "0.0000 \\\\\n",
        "0.0000 \\\\\n",
        "0.0000 \\\\\n",
        "0.2644 \\\\\n",
        "0.4644 \\\\\n",
        "0.0000 \\\\\n",
        "0.0000 \\\\\n",
        "0.1474 \\\\\n",
        "0.2644 \\\\\n",
        "0.0000 \\\\\n",
        "0.0000 \\\\\n",
        "\\end{array}\n",
        "\\right]\n",
        "\\vec{d_4} = \n",
        "\\left[\n",
        "\\begin{array}{c}\n",
        "0.0000 \\\\\n",
        "0.0000 \\\\\n",
        "0.0000 \\\\\n",
        "0.0000 \\\\\n",
        "0.0000 \\\\\n",
        "0.0000 \\\\\n",
        "0.0000 \\\\\n",
        "0.1474 \\\\\n",
        "0.2644 \\\\\n",
        "0.0000 \\\\\n",
        "0.0000 \\\\\n",
        "0.1474 \\\\\n",
        "0.2644 \\\\\n",
        "\\end{array}\n",
        "\\right]\n",
        "\\vec{d_5} = \n",
        "\\left[\n",
        "\\begin{array}{c}\n",
        "0.0000 \\\\\n",
        "0.0000 \\\\\n",
        "0.0000 \\\\\n",
        "0.0000 \\\\\n",
        "0.0000 \\\\\n",
        "0.0000 \\\\\n",
        "0.0000 \\\\\n",
        "0.1474 \\\\\n",
        "0.2644 \\\\\n",
        "0.0000 \\\\\n",
        "0.2644 \\\\\n",
        "0.1474 \\\\\n",
        "0.0000 \\\\\n",
        "\\end{array}\n",
        "\\right]\n"
       ]
      }
     ],
     "prompt_number": 14
    },
    {
     "cell_type": "code",
     "collapsed": false,
     "input": [
      "from scipy.spatial.distance import cosine\n",
      "from math import sqrt\n",
      "\n",
      "def similarity(d1, d2):\n",
      "    return np.dot(d1, d2) / (np.linalg.norm(d1) * np.linalg.norm(d2))\n",
      "\n",
      "q = d_vecs[len(d_vecs) - 1]\n",
      "\n",
      "for idx in range(len(d_vecs) - 1):\n",
      "    print \"similarity(d_%d, q) = %f\" % (idx + 1, similarity(d_vecs[idx], q))"
     ],
     "language": "python",
     "metadata": {},
     "outputs": [
      {
       "output_type": "stream",
       "stream": "stdout",
       "text": [
        "similarity(d_1, q) = 0.000000\n",
        "similarity(d_2, q) = 0.191533\n",
        "similarity(d_3, q) = 0.265877\n",
        "similarity(d_4, q) = 0.618553\n"
       ]
      }
     ],
     "prompt_number": 24
    },
    {
     "cell_type": "heading",
     "level": 3,
     "metadata": {},
     "source": [
      "Example"
     ]
    }
   ],
   "metadata": {}
  }
 ]
}